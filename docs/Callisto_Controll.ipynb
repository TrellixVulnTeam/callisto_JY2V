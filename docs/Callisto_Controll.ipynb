{
 "cells": [
  {
   "cell_type": "code",
   "execution_count": 1,
   "id": "7ec92b63",
   "metadata": {
    "ExecuteTime": {
     "end_time": "2022-04-15T15:55:49.845582Z",
     "start_time": "2022-04-15T15:55:49.499909Z"
    }
   },
   "outputs": [],
   "source": [
    "import os\n",
    "import sys\n",
    "import serial\n",
    "import callisto\n",
    "import subprocess\n",
    "import shlex\n",
    "import socket"
   ]
  },
  {
   "cell_type": "markdown",
   "id": "6f0d4b55",
   "metadata": {},
   "source": [
    "## Managing Callisto"
   ]
  },
  {
   "cell_type": "markdown",
   "id": "0d51057d",
   "metadata": {},
   "source": [
    "Instantiate the classes to handle callisto spectrometer and its calibration unit. Check tho code to see possible parameters, they are fairly customizable."
   ]
  },
  {
   "cell_type": "code",
   "execution_count": 2,
   "id": "e6be035b",
   "metadata": {
    "ExecuteTime": {
     "end_time": "2022-04-15T15:55:50.407188Z",
     "start_time": "2022-04-15T15:55:50.397236Z"
    }
   },
   "outputs": [],
   "source": [
    "cal_unit = callisto.CalibrationUnit(tty=\"/dev/ttyACM0\")\n",
    "Callisto = callisto.Callisto(PORT=6789, cal_unit=cal_unit)"
   ]
  },
  {
   "cell_type": "markdown",
   "id": "ef165ad8",
   "metadata": {},
   "source": [
    "## Auxiliary Function"
   ]
  },
  {
   "cell_type": "markdown",
   "id": "b53c494d",
   "metadata": {},
   "source": [
    "We wan check local IP to connect via TCP, callisto processes already running in the system."
   ]
  },
  {
   "cell_type": "code",
   "execution_count": 3,
   "id": "2bbee77e",
   "metadata": {
    "ExecuteTime": {
     "end_time": "2022-04-15T15:55:52.507040Z",
     "start_time": "2022-04-15T15:55:52.413070Z"
    }
   },
   "outputs": [
    {
     "data": {
      "text/plain": [
       "['52406']"
      ]
     },
     "execution_count": 3,
     "metadata": {},
     "output_type": "execute_result"
    }
   ],
   "source": [
    "Callisto.get_ip().IP\n",
    "Callisto.get_PID()"
   ]
  },
  {
   "cell_type": "code",
   "execution_count": null,
   "id": "62222a6d",
   "metadata": {
    "ExecuteTime": {
     "end_time": "2022-04-15T13:17:25.978066Z",
     "start_time": "2022-04-15T13:17:25.932086Z"
    }
   },
   "outputs": [],
   "source": [
    "Callisto.stop()\n",
    "Callisto.run_daemon()\n",
    "Callisto.do(command=\"overview\")\n",
    "Callisto.do(command=\"stop\")"
   ]
  },
  {
   "cell_type": "markdown",
   "id": "4f030a7f",
   "metadata": {},
   "source": [
    "## Main Function"
   ]
  },
  {
   "cell_type": "code",
   "execution_count": 9,
   "id": "3ca4866c",
   "metadata": {
    "ExecuteTime": {
     "end_time": "2022-04-15T13:17:16.642411Z",
     "start_time": "2022-04-15T13:17:04.441901Z"
    }
   },
   "outputs": [
    {
     "name": "stderr",
     "output_type": "stream",
     "text": [
      "[2022-04-15 10:17:07] Loaded schedule is empty\n"
     ]
    }
   ],
   "source": [
    "Callisto.record_ovs(\"COLD\")"
   ]
  },
  {
   "cell_type": "code",
   "execution_count": 11,
   "id": "01371035",
   "metadata": {
    "ExecuteTime": {
     "end_time": "2022-04-15T13:19:16.932784Z",
     "start_time": "2022-04-15T13:19:04.720695Z"
    }
   },
   "outputs": [
    {
     "name": "stderr",
     "output_type": "stream",
     "text": [
      "[2022-04-15 10:19:07] Loaded schedule is empty\n"
     ]
    }
   ],
   "source": [
    "Callisto.record_fits(\"WARM\")"
   ]
  },
  {
   "cell_type": "code",
   "execution_count": 15,
   "id": "8bcd6bd0",
   "metadata": {
    "ExecuteTime": {
     "end_time": "2022-04-15T14:08:03.857617Z",
     "start_time": "2022-04-15T14:08:03.739913Z"
    }
   },
   "outputs": [
    {
     "data": {
      "text/plain": [
       "['31888']"
      ]
     },
     "execution_count": 15,
     "metadata": {},
     "output_type": "execute_result"
    }
   ],
   "source": [
    "Callisto.stop()\n",
    "Callisto.get_PID()"
   ]
  },
  {
   "cell_type": "code",
   "execution_count": 13,
   "id": "aeccc6cd",
   "metadata": {
    "ExecuteTime": {
     "end_time": "2022-04-15T13:47:57.191665Z",
     "start_time": "2022-04-15T13:47:53.070886Z"
    }
   },
   "outputs": [
    {
     "name": "stderr",
     "output_type": "stream",
     "text": [
      "[2022-04-15 10:47:56] Loaded schedule is empty\n"
     ]
    }
   ],
   "source": [
    "Callisto.run(\"WARM\")\n",
    "Callisto.do(command=\"start\")"
   ]
  },
  {
   "cell_type": "code",
   "execution_count": 18,
   "id": "5952070f",
   "metadata": {
    "ExecuteTime": {
     "end_time": "2022-04-15T16:01:04.017032Z",
     "start_time": "2022-04-15T16:01:04.002960Z"
    }
   },
   "outputs": [
    {
     "data": {
      "text/plain": [
       "57020"
      ]
     },
     "execution_count": 18,
     "metadata": {},
     "output_type": "execute_result"
    }
   ],
   "source": [
    "Callisto.run_daemon(action=\"start\")"
   ]
  },
  {
   "cell_type": "code",
   "execution_count": null,
   "id": "f9b041e4",
   "metadata": {},
   "outputs": [],
   "source": [
    "Callisto.run_daemon(action=\"stop\")"
   ]
  }
 ],
 "metadata": {
  "kernelspec": {
   "display_name": "Python (SDR)",
   "language": "python",
   "name": "sdr"
  },
  "language_info": {
   "codemirror_mode": {
    "name": "ipython",
    "version": 3
   },
   "file_extension": ".py",
   "mimetype": "text/x-python",
   "name": "python",
   "nbconvert_exporter": "python",
   "pygments_lexer": "ipython3",
   "version": "3.9.7"
  },
  "latex_envs": {
   "LaTeX_envs_menu_present": true,
   "autoclose": false,
   "autocomplete": true,
   "bibliofile": "biblio.bib",
   "cite_by": "apalike",
   "current_citInitial": 1,
   "eqLabelWithNumbers": true,
   "eqNumInitial": 1,
   "hotkeys": {
    "equation": "Ctrl-E",
    "itemize": "Ctrl-I"
   },
   "labels_anchors": false,
   "latex_user_defs": false,
   "report_style_numbering": false,
   "user_envs_cfg": false
  },
  "toc": {
   "base_numbering": 1,
   "nav_menu": {},
   "number_sections": true,
   "sideBar": true,
   "skip_h1_title": false,
   "title_cell": "Table of Contents",
   "title_sidebar": "Contents",
   "toc_cell": false,
   "toc_position": {},
   "toc_section_display": true,
   "toc_window_display": false
  }
 },
 "nbformat": 4,
 "nbformat_minor": 5
}
