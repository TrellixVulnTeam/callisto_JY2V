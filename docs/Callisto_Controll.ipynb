{
 "cells": [
  {
   "cell_type": "code",
   "execution_count": 1,
   "id": "7ec92b63",
   "metadata": {
    "ExecuteTime": {
     "end_time": "2022-04-16T17:12:13.342363Z",
     "start_time": "2022-04-16T17:12:13.093544Z"
    }
   },
   "outputs": [],
   "source": [
    "import os\n",
    "import sys\n",
    "sys.path.append(\"../\")\n",
    "import serial\n",
    "import callisto\n",
    "import subprocess\n",
    "import shlex\n",
    "import socket"
   ]
  },
  {
   "cell_type": "markdown",
   "id": "6f0d4b55",
   "metadata": {},
   "source": [
    "## Managing Callisto"
   ]
  },
  {
   "cell_type": "markdown",
   "id": "0d51057d",
   "metadata": {},
   "source": [
    "Instantiate the classes to handle callisto spectrometer and its calibration unit. Check tho code to see possible parameters, they are fairly customizable."
   ]
  },
  {
   "cell_type": "code",
   "execution_count": 2,
   "id": "e6be035b",
   "metadata": {
    "ExecuteTime": {
     "end_time": "2022-04-16T17:12:15.889905Z",
     "start_time": "2022-04-16T17:12:15.885518Z"
    }
   },
   "outputs": [],
   "source": [
    "cal_unit = callisto.CalibrationUnit(tty=\"/dev/ttyACM0\")\n",
    "Callisto = callisto.Callisto(PORT=6789, cal_unit=cal_unit)"
   ]
  },
  {
   "cell_type": "code",
   "execution_count": 3,
   "id": "2bbee77e",
   "metadata": {
    "ExecuteTime": {
     "end_time": "2022-04-16T17:12:17.523226Z",
     "start_time": "2022-04-16T17:12:17.445180Z"
    }
   },
   "outputs": [
    {
     "data": {
      "text/plain": [
       "[]"
      ]
     },
     "execution_count": 3,
     "metadata": {},
     "output_type": "execute_result"
    }
   ],
   "source": [
    "Callisto.get_ip().IP\n",
    "Callisto.get_PID()"
   ]
  },
  {
   "cell_type": "code",
   "execution_count": 4,
   "id": "3912f680",
   "metadata": {
    "ExecuteTime": {
     "end_time": "2022-04-16T17:12:37.170514Z",
     "start_time": "2022-04-16T17:12:37.096388Z"
    }
   },
   "outputs": [],
   "source": [
    "Callisto.stop()"
   ]
  },
  {
   "cell_type": "code",
   "execution_count": 5,
   "id": "6731210d",
   "metadata": {
    "ExecuteTime": {
     "end_time": "2022-04-16T17:12:45.300468Z",
     "start_time": "2022-04-16T17:12:45.257781Z"
    }
   },
   "outputs": [
    {
     "data": {
      "text/plain": [
       "[]"
      ]
     },
     "execution_count": 5,
     "metadata": {},
     "output_type": "execute_result"
    }
   ],
   "source": [
    "Callisto.get_PID()"
   ]
  },
  {
   "cell_type": "code",
   "execution_count": 6,
   "id": "3fce30ad",
   "metadata": {
    "ExecuteTime": {
     "end_time": "2022-04-16T17:13:22.429778Z",
     "start_time": "2022-04-16T17:13:10.212003Z"
    }
   },
   "outputs": [
    {
     "name": "stderr",
     "output_type": "stream",
     "text": [
      "[2022-04-16 14:13:13] Loaded schedule is empty\n"
     ]
    }
   ],
   "source": [
    "Callisto.record_ovs(\"COLD\")"
   ]
  },
  {
   "cell_type": "code",
   "execution_count": 7,
   "id": "60283105",
   "metadata": {
    "ExecuteTime": {
     "end_time": "2022-04-16T17:14:37.185580Z",
     "start_time": "2022-04-16T17:14:24.972801Z"
    }
   },
   "outputs": [
    {
     "name": "stderr",
     "output_type": "stream",
     "text": [
      "[2022-04-16 14:14:28] Loaded schedule is empty\n"
     ]
    }
   ],
   "source": [
    "Callisto.record_fits(\"WARM\")"
   ]
  },
  {
   "cell_type": "code",
   "execution_count": 9,
   "id": "f869d41b",
   "metadata": {
    "ExecuteTime": {
     "end_time": "2022-04-16T17:20:25.893994Z",
     "start_time": "2022-04-16T17:20:25.854141Z"
    }
   },
   "outputs": [
    {
     "data": {
      "text/plain": [
       "['249859']"
      ]
     },
     "execution_count": 9,
     "metadata": {},
     "output_type": "execute_result"
    }
   ],
   "source": [
    "Callisto.get_PID()"
   ]
  },
  {
   "cell_type": "code",
   "execution_count": null,
   "id": "d26d78fc",
   "metadata": {},
   "outputs": [],
   "source": []
  },
  {
   "cell_type": "code",
   "execution_count": null,
   "id": "1c42eed0",
   "metadata": {},
   "outputs": [],
   "source": []
  },
  {
   "cell_type": "code",
   "execution_count": null,
   "id": "3b075fea",
   "metadata": {},
   "outputs": [],
   "source": []
  },
  {
   "cell_type": "code",
   "execution_count": 10,
   "id": "62222a6d",
   "metadata": {
    "ExecuteTime": {
     "end_time": "2022-04-15T17:06:49.097303Z",
     "start_time": "2022-04-15T17:06:44.904483Z"
    }
   },
   "outputs": [
    {
     "name": "stderr",
     "output_type": "stream",
     "text": [
      "[2022-04-15 14:06:48] Loaded schedule is empty\n"
     ]
    }
   ],
   "source": [
    "Callisto.stop()\n",
    "Callisto.run(\"WARM\")\n",
    "Callisto.do(command=\"overview\")"
   ]
  },
  {
   "cell_type": "code",
   "execution_count": null,
   "id": "c9d9fe9b",
   "metadata": {},
   "outputs": [],
   "source": [
    "Callisto.do(command=\"stop\")"
   ]
  },
  {
   "cell_type": "markdown",
   "id": "4f030a7f",
   "metadata": {},
   "source": [
    "## Main Function"
   ]
  },
  {
   "cell_type": "code",
   "execution_count": 12,
   "id": "3ca4866c",
   "metadata": {
    "ExecuteTime": {
     "end_time": "2022-04-15T17:08:04.417568Z",
     "start_time": "2022-04-15T17:07:52.208564Z"
    }
   },
   "outputs": [
    {
     "name": "stderr",
     "output_type": "stream",
     "text": [
      "[2022-04-15 14:07:55] Loaded schedule is empty\n"
     ]
    }
   ],
   "source": [
    "Callisto.record_ovs(\"COLD\")"
   ]
  },
  {
   "cell_type": "code",
   "execution_count": 11,
   "id": "01371035",
   "metadata": {
    "ExecuteTime": {
     "end_time": "2022-04-15T13:19:16.932784Z",
     "start_time": "2022-04-15T13:19:04.720695Z"
    }
   },
   "outputs": [
    {
     "name": "stderr",
     "output_type": "stream",
     "text": [
      "[2022-04-15 10:19:07] Loaded schedule is empty\n"
     ]
    }
   ],
   "source": [
    "Callisto.record_fits(\"WARM\")"
   ]
  },
  {
   "cell_type": "code",
   "execution_count": 15,
   "id": "8bcd6bd0",
   "metadata": {
    "ExecuteTime": {
     "end_time": "2022-04-15T14:08:03.857617Z",
     "start_time": "2022-04-15T14:08:03.739913Z"
    }
   },
   "outputs": [
    {
     "data": {
      "text/plain": [
       "['31888']"
      ]
     },
     "execution_count": 15,
     "metadata": {},
     "output_type": "execute_result"
    }
   ],
   "source": [
    "Callisto.stop()\n",
    "Callisto.get_PID()"
   ]
  },
  {
   "cell_type": "code",
   "execution_count": 13,
   "id": "aeccc6cd",
   "metadata": {
    "ExecuteTime": {
     "end_time": "2022-04-15T13:47:57.191665Z",
     "start_time": "2022-04-15T13:47:53.070886Z"
    }
   },
   "outputs": [
    {
     "name": "stderr",
     "output_type": "stream",
     "text": [
      "[2022-04-15 10:47:56] Loaded schedule is empty\n"
     ]
    }
   ],
   "source": []
  },
  {
   "cell_type": "code",
   "execution_count": 18,
   "id": "5952070f",
   "metadata": {
    "ExecuteTime": {
     "end_time": "2022-04-15T16:01:04.017032Z",
     "start_time": "2022-04-15T16:01:04.002960Z"
    }
   },
   "outputs": [
    {
     "data": {
      "text/plain": [
       "57020"
      ]
     },
     "execution_count": 18,
     "metadata": {},
     "output_type": "execute_result"
    }
   ],
   "source": [
    "Callisto.run_daemon(action=\"start\")"
   ]
  },
  {
   "cell_type": "code",
   "execution_count": null,
   "id": "f9b041e4",
   "metadata": {},
   "outputs": [],
   "source": [
    "Callisto.run_daemon(action=\"stop\")"
   ]
  },
  {
   "cell_type": "code",
   "execution_count": 6,
   "id": "0ccf1e66",
   "metadata": {
    "ExecuteTime": {
     "end_time": "2022-04-16T17:07:57.402035Z",
     "start_time": "2022-04-16T17:07:34.996704Z"
    }
   },
   "outputs": [
    {
     "name": "stderr",
     "output_type": "stream",
     "text": [
      "[2022-04-16 14:07:38] Loaded schedule is empty\n",
      "ERROR: cannot open serial device /dev/ttyUSB0: Device or resource busy\n",
      "ERROR:root:do_callisto Caught exception Waited too long for host\n"
     ]
    }
   ],
   "source": [
    "Callisto._calibrate(\"HOT\")"
   ]
  },
  {
   "cell_type": "code",
   "execution_count": null,
   "id": "dba3b475",
   "metadata": {},
   "outputs": [],
   "source": []
  }
 ],
 "metadata": {
  "kernelspec": {
   "display_name": "Python (SDR)",
   "language": "python",
   "name": "sdr"
  },
  "language_info": {
   "codemirror_mode": {
    "name": "ipython",
    "version": 3
   },
   "file_extension": ".py",
   "mimetype": "text/x-python",
   "name": "python",
   "nbconvert_exporter": "python",
   "pygments_lexer": "ipython3",
   "version": "3.9.7"
  },
  "latex_envs": {
   "LaTeX_envs_menu_present": true,
   "autoclose": false,
   "autocomplete": true,
   "bibliofile": "biblio.bib",
   "cite_by": "apalike",
   "current_citInitial": 1,
   "eqLabelWithNumbers": true,
   "eqNumInitial": 1,
   "hotkeys": {
    "equation": "Ctrl-E",
    "itemize": "Ctrl-I"
   },
   "labels_anchors": false,
   "latex_user_defs": false,
   "report_style_numbering": false,
   "user_envs_cfg": false
  },
  "toc": {
   "base_numbering": 1,
   "nav_menu": {},
   "number_sections": true,
   "sideBar": true,
   "skip_h1_title": false,
   "title_cell": "Table of Contents",
   "title_sidebar": "Contents",
   "toc_cell": false,
   "toc_position": {},
   "toc_section_display": true,
   "toc_window_display": false
  }
 },
 "nbformat": 4,
 "nbformat_minor": 5
}
