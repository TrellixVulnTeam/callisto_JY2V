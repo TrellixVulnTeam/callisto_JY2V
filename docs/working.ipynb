{
 "cells": [
  {
   "cell_type": "code",
   "execution_count": 18,
   "id": "7ec92b63",
   "metadata": {
    "ExecuteTime": {
     "end_time": "2022-04-18T17:21:15.133569Z",
     "start_time": "2022-04-18T17:21:15.123741Z"
    }
   },
   "outputs": [],
   "source": [
    "import os\n",
    "import sys\n",
    "sys.path.append(\"../\")\n",
    "import serial\n",
    "import callisto\n",
    "import logging\n",
    "import subprocess\n",
    "import shlex\n",
    "import socket\n",
    "import importlib\n",
    "from IPython.core.interactiveshell import InteractiveShell\n",
    "from IPython.display import display\n",
    "InteractiveShell.ast_node_interactivity = \"all\""
   ]
  },
  {
   "cell_type": "code",
   "execution_count": 19,
   "id": "c28d5659",
   "metadata": {
    "ExecuteTime": {
     "end_time": "2022-04-18T17:21:15.397735Z",
     "start_time": "2022-04-18T17:21:15.377564Z"
    }
   },
   "outputs": [
    {
     "data": {
      "text/plain": [
       "<module 'callisto' from '/home/bingo/clones/callisto/docs/../callisto.py'>"
      ]
     },
     "execution_count": 19,
     "metadata": {},
     "output_type": "execute_result"
    }
   ],
   "source": [
    "importlib.reload(callisto)"
   ]
  },
  {
   "cell_type": "code",
   "execution_count": 20,
   "id": "0dc8843c",
   "metadata": {
    "ExecuteTime": {
     "end_time": "2022-04-18T17:21:18.360647Z",
     "start_time": "2022-04-18T17:21:18.355417Z"
    }
   },
   "outputs": [],
   "source": [
    "logger = callisto.logger\n",
    "handler = logging.StreamHandler()\n",
    "formatter = logging.Formatter(\n",
    "        '%(asctime)s %(name)-12s %(levelname)-8s %(message)s')\n",
    "handler.setFormatter(formatter)\n",
    "logger.addHandler(handler)\n",
    "logger.setLevel(logging.DEBUG)"
   ]
  },
  {
   "cell_type": "markdown",
   "id": "6f0d4b55",
   "metadata": {},
   "source": [
    "## Managing Callisto"
   ]
  },
  {
   "cell_type": "markdown",
   "id": "0d51057d",
   "metadata": {},
   "source": [
    "Instantiate the classes to handle callisto spectrometer and its calibration unit. Check the code to see possible parameters, they are fairly customizable."
   ]
  },
  {
   "cell_type": "code",
   "execution_count": 21,
   "id": "7d6ec628",
   "metadata": {
    "ExecuteTime": {
     "end_time": "2022-04-18T17:21:25.020814Z",
     "start_time": "2022-04-18T17:21:25.017167Z"
    }
   },
   "outputs": [],
   "source": [
    "#Callisto = callisto.Callisto(PORT=6789, cal_unit=cal_unit)"
   ]
  },
  {
   "cell_type": "markdown",
   "id": "74ba1c29",
   "metadata": {},
   "source": [
    "## Calibration Unit"
   ]
  },
  {
   "cell_type": "markdown",
   "id": "03af9682",
   "metadata": {},
   "source": [
    "Todas as funções tem comportamento esperado quando são enviados parâmetros válidos e inválidos."
   ]
  },
  {
   "cell_type": "code",
   "execution_count": 22,
   "id": "e295c920",
   "metadata": {
    "ExecuteTime": {
     "end_time": "2022-04-18T17:21:26.879591Z",
     "start_time": "2022-04-18T17:21:26.875648Z"
    }
   },
   "outputs": [],
   "source": [
    "cal_unit = callisto.CalibrationUnit(tty=\"/dev/ttyACM0\")"
   ]
  },
  {
   "cell_type": "code",
   "execution_count": 23,
   "id": "49b04abc",
   "metadata": {
    "ExecuteTime": {
     "end_time": "2022-04-18T17:21:34.449036Z",
     "start_time": "2022-04-18T17:21:28.123970Z"
    }
   },
   "outputs": [
    {
     "data": {
      "text/plain": [
       "False"
      ]
     },
     "execution_count": 23,
     "metadata": {},
     "output_type": "execute_result"
    },
    {
     "data": {
      "text/plain": [
       "<callisto.CalibrationUnit at 0x7f6107910bb0>"
      ]
     },
     "execution_count": 23,
     "metadata": {},
     "output_type": "execute_result"
    },
    {
     "data": {
      "text/plain": [
       "Serial<id=0x7f6107506670, open=True>(port='/dev/ttyACM0', baudrate=9600, bytesize=8, parity='N', stopbits=1, timeout=1, xonxoff=False, rtscts=False, dsrdtr=False)"
      ]
     },
     "execution_count": 23,
     "metadata": {},
     "output_type": "execute_result"
    },
    {
     "data": {
      "text/plain": [
       "''"
      ]
     },
     "execution_count": 23,
     "metadata": {},
     "output_type": "execute_result"
    },
    {
     "data": {
      "text/plain": [
       "'# Controller rfi-monitoring system.'"
      ]
     },
     "execution_count": 23,
     "metadata": {},
     "output_type": "execute_result"
    },
    {
     "data": {
      "text/plain": [
       "'Version: ETHZ Arduino_PrototypeV85.ino; 2016-08-17/cmRelay switching successful.'"
      ]
     },
     "execution_count": 23,
     "metadata": {},
     "output_type": "execute_result"
    },
    {
     "data": {
      "text/plain": [
       "''"
      ]
     },
     "execution_count": 23,
     "metadata": {},
     "output_type": "execute_result"
    }
   ],
   "source": [
    "cal_unit.check()\n",
    "cal_unit.connect()\n",
    "cal_unit.serial\n",
    "cal_unit.send_command(b\"Tcol\\n\")\n",
    "cal_unit.set_relay(\"COLD\")\n",
    "cal_unit.send_command(b\"V?\\n\")\n",
    "cal_unit.send_command(b\"Thot\")"
   ]
  },
  {
   "cell_type": "markdown",
   "id": "ed248d51",
   "metadata": {},
   "source": [
    "## Funções de Módulo"
   ]
  },
  {
   "cell_type": "markdown",
   "id": "21a31679",
   "metadata": {},
   "source": [
    "- `run_command`\n",
    "- `run_detached`\n",
    "- `Handler.oncreated`\n",
    "- `WatchFolder.run`"
   ]
  },
  {
   "cell_type": "code",
   "execution_count": 24,
   "id": "5e25a039",
   "metadata": {
    "ExecuteTime": {
     "end_time": "2022-04-18T17:21:39.225167Z",
     "start_time": "2022-04-18T17:21:39.205419Z"
    }
   },
   "outputs": [
    {
     "name": "stdout",
     "output_type": "stream",
     "text": [
      "total 272\n",
      "248 -rw-rw-r-- 1 bingo bingo 252177 abr 18 09:52 Callisto_Controll.ipynb\n",
      " 24 -rw-rw-r-- 1 bingo bingo  23737 abr 18 14:20 working.ipynb\n",
      "\n",
      "\n"
     ]
    }
   ],
   "source": [
    "out, err = callisto.run_command(\"ls -ls\")\n",
    "print(out.decode(\"utf-8\"))\n",
    "print(err.decode(\"utf-8\"))"
   ]
  },
  {
   "cell_type": "code",
   "execution_count": 25,
   "id": "b6a5a995",
   "metadata": {
    "ExecuteTime": {
     "end_time": "2022-04-18T17:21:40.234196Z",
     "start_time": "2022-04-18T17:21:40.214677Z"
    }
   },
   "outputs": [
    {
     "name": "stderr",
     "output_type": "stream",
     "text": [
      "ERROR:root:Error running command cat arquivoteste:cat: arquivoteste: Arquivo ou diretório inexistente\n",
      "\n"
     ]
    },
    {
     "name": "stdout",
     "output_type": "stream",
     "text": [
      "\n",
      "cat: arquivoteste: Arquivo ou diretório inexistente\n",
      "\n"
     ]
    }
   ],
   "source": [
    "out, err = callisto.run_command(\"cat arquivoteste\")\n",
    "print(out.decode(\"utf-8\"))\n",
    "print(err)"
   ]
  },
  {
   "cell_type": "code",
   "execution_count": 26,
   "id": "1dfa4998",
   "metadata": {
    "ExecuteTime": {
     "end_time": "2022-04-18T17:21:41.644367Z",
     "start_time": "2022-04-18T17:21:41.629792Z"
    }
   },
   "outputs": [
    {
     "data": {
      "text/plain": [
       "<Process name='Process-1' pid=250085 parent=248626 started daemon>"
      ]
     },
     "execution_count": 26,
     "metadata": {},
     "output_type": "execute_result"
    }
   ],
   "source": [
    "callisto.run_detached(\"find\")"
   ]
  },
  {
   "cell_type": "code",
   "execution_count": 27,
   "id": "93a4ac7b",
   "metadata": {
    "ExecuteTime": {
     "end_time": "2022-04-18T17:21:56.515258Z",
     "start_time": "2022-04-18T17:21:48.414863Z"
    }
   },
   "outputs": [
    {
     "name": "stderr",
     "output_type": "stream",
     "text": [
      "2022-04-18 14:21:56,364 callisto     INFO     File created: ./.~working.ipynb\n",
      "2022-04-18 14:21:56,364 callisto     INFO     File created: ./.~working.ipynb\n",
      "2022-04-18 14:21:56,364 callisto     INFO     File created: ./.~working.ipynb\n",
      "INFO:callisto:File created: ./.~working.ipynb\n"
     ]
    }
   ],
   "source": [
    "watch = callisto.WatchFolder(path=\"./\", pattern=\"*.*\", watch_time=20)\n",
    "watch.run()"
   ]
  },
  {
   "cell_type": "markdown",
   "id": "2c8d6368",
   "metadata": {},
   "source": [
    "## Callisto"
   ]
  },
  {
   "cell_type": "markdown",
   "id": "b3fbd5cc",
   "metadata": {},
   "source": [
    "- `get_IP`\n",
    "- `get_PID`\n",
    "- `is_running`\n",
    "- `run_daemon`\n",
    "- `stop`\n",
    "- `run`\n",
    "- `connect`\n",
    "- `do`\n",
    "- `record_ovs`\n",
    "- `record_fits`\n",
    "- `_calibrate`\n",
    "- `calibrate`"
   ]
  },
  {
   "cell_type": "code",
   "execution_count": 29,
   "id": "61597461",
   "metadata": {
    "ExecuteTime": {
     "end_time": "2022-04-18T17:22:03.724134Z",
     "start_time": "2022-04-18T17:22:03.720525Z"
    }
   },
   "outputs": [],
   "source": [
    "Callisto = callisto.Callisto(cal_unit=cal_unit)"
   ]
  },
  {
   "cell_type": "code",
   "execution_count": 30,
   "id": "5b76979b",
   "metadata": {
    "ExecuteTime": {
     "end_time": "2022-04-18T17:22:07.406350Z",
     "start_time": "2022-04-18T17:22:07.360739Z"
    }
   },
   "outputs": [
    {
     "data": {
      "text/plain": [
       "'150.165.37.25'"
      ]
     },
     "execution_count": 30,
     "metadata": {},
     "output_type": "execute_result"
    },
    {
     "data": {
      "text/plain": [
       "['246855']"
      ]
     },
     "execution_count": 30,
     "metadata": {},
     "output_type": "execute_result"
    }
   ],
   "source": [
    "Callisto.get_ip()\n",
    "Callisto.get_PID()"
   ]
  },
  {
   "cell_type": "code",
   "execution_count": 31,
   "id": "cfac100d",
   "metadata": {
    "ExecuteTime": {
     "end_time": "2022-04-18T17:22:13.249736Z",
     "start_time": "2022-04-18T17:22:08.233226Z"
    }
   },
   "outputs": [
    {
     "name": "stderr",
     "output_type": "stream",
     "text": [
      "2022-04-18 14:22:13,242 callisto     ERROR    Taking too long ot die.\n",
      "2022-04-18 14:22:13,242 callisto     ERROR    Taking too long ot die.\n",
      "2022-04-18 14:22:13,242 callisto     ERROR    Taking too long ot die.\n",
      "ERROR:callisto:Taking too long ot die.\n"
     ]
    },
    {
     "data": {
      "text/plain": [
       "True"
      ]
     },
     "execution_count": 31,
     "metadata": {},
     "output_type": "execute_result"
    }
   ],
   "source": [
    "Callisto.is_running()"
   ]
  },
  {
   "cell_type": "code",
   "execution_count": 32,
   "id": "6e0042be",
   "metadata": {
    "ExecuteTime": {
     "end_time": "2022-04-18T17:22:13.382687Z",
     "start_time": "2022-04-18T17:22:13.252748Z"
    }
   },
   "outputs": [],
   "source": [
    "Callisto.stop()"
   ]
  },
  {
   "cell_type": "code",
   "execution_count": 33,
   "id": "5ba41d0e",
   "metadata": {
    "ExecuteTime": {
     "end_time": "2022-04-18T17:22:15.316642Z",
     "start_time": "2022-04-18T17:22:15.305675Z"
    }
   },
   "outputs": [
    {
     "name": "stderr",
     "output_type": "stream",
     "text": [
      "ERROR:root:Error running command sudo /bin/systemctl start callisto.service:Job for callisto.service canceled.\n",
      "\n"
     ]
    }
   ],
   "source": [
    "Callisto.run_daemon(action=\"start\")"
   ]
  },
  {
   "cell_type": "code",
   "execution_count": 34,
   "id": "5a77e8c0",
   "metadata": {
    "ExecuteTime": {
     "end_time": "2022-04-18T17:22:18.103737Z",
     "start_time": "2022-04-18T17:22:18.060062Z"
    }
   },
   "outputs": [
    {
     "data": {
      "text/plain": [
       "['250317']"
      ]
     },
     "execution_count": 34,
     "metadata": {},
     "output_type": "execute_result"
    }
   ],
   "source": [
    "Callisto.get_PID()"
   ]
  },
  {
   "cell_type": "code",
   "execution_count": 35,
   "id": "626fb399",
   "metadata": {
    "ExecuteTime": {
     "end_time": "2022-04-18T17:22:19.435472Z",
     "start_time": "2022-04-18T17:22:19.425903Z"
    }
   },
   "outputs": [],
   "source": [
    "Callisto.run_daemon(action=\"stop\")"
   ]
  },
  {
   "cell_type": "code",
   "execution_count": 36,
   "id": "81fe9b11",
   "metadata": {
    "ExecuteTime": {
     "end_time": "2022-04-18T17:22:39.190363Z",
     "start_time": "2022-04-18T17:22:27.138956Z"
    }
   },
   "outputs": [
    {
     "data": {
      "text/plain": [
       "(b'', '[2022-04-18 14:22:30] Loaded schedule is empty\\n')"
      ]
     },
     "execution_count": 36,
     "metadata": {},
     "output_type": "execute_result"
    }
   ],
   "source": [
    "Callisto.run(\"COLD\")"
   ]
  },
  {
   "cell_type": "code",
   "execution_count": 37,
   "id": "7ca87dfe",
   "metadata": {
    "ExecuteTime": {
     "end_time": "2022-04-18T17:22:45.299085Z",
     "start_time": "2022-04-18T17:22:45.141798Z"
    }
   },
   "outputs": [
    {
     "name": "stderr",
     "output_type": "stream",
     "text": [
      "ERROR:root:Error running command callisto --config /etc/callisto/callisto_COL.cfg:ERROR: Cannot open configuration file callisto_COL.cfg: No such file or directory\n",
      "\n"
     ]
    },
    {
     "data": {
      "text/plain": [
       "(b'',\n",
       " 'ERROR: Cannot open configuration file callisto_COL.cfg: No such file or directory\\n')"
      ]
     },
     "execution_count": 37,
     "metadata": {},
     "output_type": "execute_result"
    }
   ],
   "source": [
    "Callisto.run(\"COL\")"
   ]
  },
  {
   "cell_type": "markdown",
   "id": "6787c295",
   "metadata": {},
   "source": [
    "- Operação do arduino com o comando `screen` funciona.\n",
    "- Operação do binário callisto com `netcat` funciona.\n",
    "- `cal_unit.check()` funciona em `callisto.py`.\n",
    "- `Callisto.get_PID()` funciona em `callisto.py`.\n",
    "- `cal_unit.record_OVS(\"COLD\")` funciona em `callisto.py`.\n",
    "- `cal_unit._calibrate(\"COLD\")`  funciona em `callisto.py`.\n",
    "- `python /usr/local/bin/callisto.py` funciona em raspberry."
   ]
  },
  {
   "cell_type": "code",
   "execution_count": 38,
   "id": "6a97878e",
   "metadata": {
    "ExecuteTime": {
     "end_time": "2022-04-18T17:23:18.300565Z",
     "start_time": "2022-04-18T17:22:58.263150Z"
    }
   },
   "outputs": [
    {
     "name": "stderr",
     "output_type": "stream",
     "text": [
      "2022-04-18 14:23:18,292 callisto     ERROR    Callisto took too lon to answer TCP.\n",
      "2022-04-18 14:23:18,292 callisto     ERROR    Callisto took too lon to answer TCP.\n",
      "2022-04-18 14:23:18,292 callisto     ERROR    Callisto took too lon to answer TCP.\n",
      "ERROR:callisto:Callisto took too lon to answer TCP.\n"
     ]
    },
    {
     "data": {
      "text/plain": [
       "<socket.socket fd=59, family=AddressFamily.AF_INET, type=SocketKind.SOCK_STREAM, proto=0, laddr=('150.165.37.25', 54322)>"
      ]
     },
     "execution_count": 38,
     "metadata": {},
     "output_type": "execute_result"
    }
   ],
   "source": [
    "Callisto.connect()"
   ]
  },
  {
   "cell_type": "code",
   "execution_count": 39,
   "id": "ea366dbf",
   "metadata": {
    "ExecuteTime": {
     "end_time": "2022-04-18T17:23:35.297639Z",
     "start_time": "2022-04-18T17:23:23.202015Z"
    }
   },
   "outputs": [
    {
     "data": {
      "text/plain": [
       "(b'', '[2022-04-18 14:23:26] Loaded schedule is empty\\n')"
      ]
     },
     "execution_count": 39,
     "metadata": {},
     "output_type": "execute_result"
    }
   ],
   "source": [
    "Callisto.run(\"WARM\")\n",
    "Callisto.do(\"overview\")"
   ]
  },
  {
   "cell_type": "code",
   "execution_count": null,
   "id": "20e9a125",
   "metadata": {},
   "outputs": [],
   "source": [
    "Callisto.do(\"overview\")"
   ]
  },
  {
   "cell_type": "code",
   "execution_count": null,
   "id": "701998ad",
   "metadata": {
    "ExecuteTime": {
     "start_time": "2022-04-18T17:23:59.490Z"
    }
   },
   "outputs": [
    {
     "name": "stderr",
     "output_type": "stream",
     "text": [
      "ERROR:root:Error running command callisto --config /etc/callisto/callisto_HOT.cfg:ERROR: The device at /dev/ttyUSB0 does not seem to be Callisto (reset failed)\n",
      "\n"
     ]
    }
   ],
   "source": [
    "Callisto.record_ovs(\"HOT\")"
   ]
  },
  {
   "cell_type": "code",
   "execution_count": 29,
   "id": "1f0754c4",
   "metadata": {
    "ExecuteTime": {
     "end_time": "2022-04-18T17:05:17.883688Z",
     "start_time": "2022-04-18T17:04:16.271451Z"
    }
   },
   "outputs": [
    {
     "name": "stderr",
     "output_type": "stream",
     "text": [
      "2022-04-18 14:05:17,775 callisto     INFO     File created: /opt/callisto/Ovs/OVS_UIRAPURU_20220418_170429.prn\n",
      "INFO:callisto:File created: /opt/callisto/Ovs/OVS_UIRAPURU_20220418_170429.prn\n"
     ]
    }
   ],
   "source": [
    "Callisto.record_ovs(\"HOT\")"
   ]
  },
  {
   "cell_type": "code",
   "execution_count": null,
   "id": "946f5794",
   "metadata": {},
   "outputs": [],
   "source": []
  },
  {
   "cell_type": "code",
   "execution_count": null,
   "id": "1b3327f5",
   "metadata": {},
   "outputs": [],
   "source": []
  },
  {
   "cell_type": "markdown",
   "id": "5c26aa1c",
   "metadata": {},
   "source": [
    "RESPOSTA arduino: \"illegal command\""
   ]
  },
  {
   "cell_type": "markdown",
   "id": "1540a057",
   "metadata": {},
   "source": [
    "RESPOSTA TCP:\n",
    "- \"stop\": \"OK stopping\"\n",
    "- \"merda\": \"ERROR unrecognized command (merda)\"\n",
    "- \"start\": \"OK starting new FITS file\"\n",
    "- \"overview\": \"OK starting spectral overview\"\n",
    "- \"quit\": \"OK closing connection\""
   ]
  },
  {
   "cell_type": "markdown",
   "id": "ecd82da9",
   "metadata": {},
   "source": [
    "V?    Version: ETHZ Arduino_PrototypeV85.ino; 2016-08-17/cm\n",
    "U28   NoiseSourceVoltage=29.09 Volt\n",
    "tcu   tcu:  295.43 K\n",
    "UR    State of the driver-Relays=0\n",
    "debug0\n",
    "debug1\n",
    "echo0\n",
    "echo1\n",
    "TestX\n",
    "TestY\n",
    "Pheat\n",
    "Pcool\n",
    "Poff\n",
    "con1\n",
    "con0\n",
    "\n"
   ]
  },
  {
   "cell_type": "code",
   "execution_count": null,
   "id": "60c67342",
   "metadata": {},
   "outputs": [],
   "source": []
  }
 ],
 "metadata": {
  "kernelspec": {
   "display_name": "Python (SDR)",
   "language": "python",
   "name": "sdr"
  },
  "language_info": {
   "codemirror_mode": {
    "name": "ipython",
    "version": 3
   },
   "file_extension": ".py",
   "mimetype": "text/x-python",
   "name": "python",
   "nbconvert_exporter": "python",
   "pygments_lexer": "ipython3",
   "version": "3.9.7"
  },
  "latex_envs": {
   "LaTeX_envs_menu_present": true,
   "autoclose": false,
   "autocomplete": true,
   "bibliofile": "biblio.bib",
   "cite_by": "apalike",
   "current_citInitial": 1,
   "eqLabelWithNumbers": true,
   "eqNumInitial": 1,
   "hotkeys": {
    "equation": "Ctrl-E",
    "itemize": "Ctrl-I"
   },
   "labels_anchors": false,
   "latex_user_defs": false,
   "report_style_numbering": false,
   "user_envs_cfg": false
  },
  "toc": {
   "base_numbering": 1,
   "nav_menu": {},
   "number_sections": true,
   "sideBar": true,
   "skip_h1_title": false,
   "title_cell": "Table of Contents",
   "title_sidebar": "Contents",
   "toc_cell": false,
   "toc_position": {},
   "toc_section_display": true,
   "toc_window_display": false
  }
 },
 "nbformat": 4,
 "nbformat_minor": 5
}
