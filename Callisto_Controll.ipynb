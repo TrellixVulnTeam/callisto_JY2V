{
 "cells": [
  {
   "cell_type": "code",
   "execution_count": 1,
   "id": "7ec92b63",
   "metadata": {},
   "outputs": [],
   "source": [
    "import os\n",
    "import sys\n",
    "import serial\n",
    "import callisto"
   ]
  },
  {
   "cell_type": "code",
   "execution_count": 2,
   "id": "ab6753d4",
   "metadata": {},
   "outputs": [],
   "source": [
    "cal_unit = callisto.CalibrationUnit(tty=\"/dev/ttyACM0\")\n",
    "callisto = callisto.Callisto(PORT=6789, cal_unit=cal_unit)"
   ]
  },
  {
   "cell_type": "code",
   "execution_count": 3,
   "id": "4210927c",
   "metadata": {},
   "outputs": [],
   "source": [
    "cal_unit.set_relay(\"COLD\")"
   ]
  },
  {
   "cell_type": "code",
   "execution_count": 3,
   "id": "1629a806",
   "metadata": {},
   "outputs": [
    {
     "name": "stdout",
     "output_type": "stream",
     "text": [
      "/usr/sbin/callisto --config /etc/callisto/callisto_COLD.cfg\n",
      "Caught exception [Errno 111] Connection refused\n",
      "do_callisto Caught exception [Errno 32] Broken pipe\n",
      "Caught exception [Errno 111] Connection refused\n",
      "do_callisto Caught exception [Errno 32] Broken pipe\n",
      "Caught exception [Errno 111] Connection refused\n",
      "do_callisto Caught exception [Errno 32] Broken pipe\n"
     ]
    },
    {
     "name": "stderr",
     "output_type": "stream",
     "text": [
      "[2022-04-14 14:17:58] Loaded schedule is empty\n"
     ]
    }
   ],
   "source": [
    "callisto.record_ovs(\"COLD\")"
   ]
  },
  {
   "cell_type": "code",
   "execution_count": 4,
   "id": "a11f7509",
   "metadata": {},
   "outputs": [
    {
     "data": {
      "text/plain": [
       "<callisto.Callisto at 0x7f176c1f6af0>"
      ]
     },
     "execution_count": 4,
     "metadata": {},
     "output_type": "execute_result"
    }
   ],
   "source": [
    "callisto.do_callisto(\"overview\")"
   ]
  },
  {
   "cell_type": "markdown",
   "id": "6f0d4b55",
   "metadata": {},
   "source": [
    "## Testing Ground"
   ]
  },
  {
   "cell_type": "code",
   "execution_count": 7,
   "id": "aecbae25",
   "metadata": {},
   "outputs": [
    {
     "data": {
      "text/plain": [
       "<callisto.Callisto at 0x7f176c1f6af0>"
      ]
     },
     "execution_count": 7,
     "metadata": {},
     "output_type": "execute_result"
    }
   ],
   "source": [
    "callisto.do_callisto(\"stop\")"
   ]
  },
  {
   "cell_type": "code",
   "execution_count": 6,
   "id": "3f94c130",
   "metadata": {},
   "outputs": [
    {
     "data": {
      "text/plain": [
       "<callisto.Callisto at 0x7f176c1f6af0>"
      ]
     },
     "execution_count": 6,
     "metadata": {},
     "output_type": "execute_result"
    }
   ],
   "source": [
    "callisto.do_callisto(\"start\")"
   ]
  },
  {
   "cell_type": "code",
   "execution_count": 8,
   "id": "8bfc85d8",
   "metadata": {},
   "outputs": [
    {
     "data": {
      "text/plain": [
       "<callisto.Callisto at 0x7f176c1f6af0>"
      ]
     },
     "execution_count": 8,
     "metadata": {},
     "output_type": "execute_result"
    }
   ],
   "source": [
    "callisto.do_callisto(\"quit\")"
   ]
  },
  {
   "cell_type": "code",
   "execution_count": 9,
   "id": "2e0ac6f4",
   "metadata": {},
   "outputs": [
    {
     "data": {
      "text/plain": [
       "[]"
      ]
     },
     "execution_count": 9,
     "metadata": {},
     "output_type": "execute_result"
    }
   ],
   "source": [
    "callisto.get_PID()"
   ]
  },
  {
   "cell_type": "code",
   "execution_count": null,
   "id": "2bbee77e",
   "metadata": {},
   "outputs": [],
   "source": []
  }
 ],
 "metadata": {
  "kernelspec": {
   "display_name": "Python (SDR)",
   "language": "python",
   "name": "sdr"
  },
  "language_info": {
   "codemirror_mode": {
    "name": "ipython",
    "version": 3
   },
   "file_extension": ".py",
   "mimetype": "text/x-python",
   "name": "python",
   "nbconvert_exporter": "python",
   "pygments_lexer": "ipython3",
   "version": "3.9.7"
  },
  "toc": {
   "base_numbering": 1,
   "nav_menu": {},
   "number_sections": true,
   "sideBar": true,
   "skip_h1_title": false,
   "title_cell": "Table of Contents",
   "title_sidebar": "Contents",
   "toc_cell": false,
   "toc_position": {},
   "toc_section_display": true,
   "toc_window_display": false
  }
 },
 "nbformat": 4,
 "nbformat_minor": 5
}
